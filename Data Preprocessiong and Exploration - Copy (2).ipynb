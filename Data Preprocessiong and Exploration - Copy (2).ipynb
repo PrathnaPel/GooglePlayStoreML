{
 "cells": [
  {
   "cell_type": "markdown",
   "metadata": {},
   "source": [
    "# Google Play Store Apps\n",
    "sources:\n",
    "\n",
    "https://www.kaggle.com/lava18/google-play-store-apps\n",
    "\n",
    "https://www.pewresearch.org/internet/fact-sheet/mobile/\n",
    "\n",
    "### Problem\n",
    "Today mobile usage become a necessary tool in our daily life. According to Pewreseach, in the past ten years smartphone ownerships in the US has risen 45%, and currently, it has reached 81%. These devices gained popularity for their utilities, design styles, and third-party applications. With such popularity, many app developers gained massive profit from their applications. As an upcoming developer, getting into this business can be difficult. As such, the purpose of this research is to build a trained model that allow develper to predict the app's poplularity which can aid in their decision process."
   ]
  },
  {
   "cell_type": "code",
   "execution_count": 185,
   "metadata": {
    "scrolled": true
   },
   "outputs": [],
   "source": [
    "import numpy as np\n",
    "import pandas as pd\n",
    "import matplotlib.pyplot as plt\n",
    "%matplotlib inline\n",
    "import seaborn as sns"
   ]
  },
  {
   "cell_type": "code",
   "execution_count": 186,
   "metadata": {},
   "outputs": [],
   "source": [
    "playstore = pd.read_csv('./data/googleplaystore.csv')"
   ]
  },
  {
   "cell_type": "code",
   "execution_count": 187,
   "metadata": {},
   "outputs": [
    {
     "data": {
      "text/html": [
       "<div>\n",
       "<style scoped>\n",
       "    .dataframe tbody tr th:only-of-type {\n",
       "        vertical-align: middle;\n",
       "    }\n",
       "\n",
       "    .dataframe tbody tr th {\n",
       "        vertical-align: top;\n",
       "    }\n",
       "\n",
       "    .dataframe thead th {\n",
       "        text-align: right;\n",
       "    }\n",
       "</style>\n",
       "<table border=\"1\" class=\"dataframe\">\n",
       "  <thead>\n",
       "    <tr style=\"text-align: right;\">\n",
       "      <th></th>\n",
       "      <th>App</th>\n",
       "      <th>Category</th>\n",
       "      <th>Rating</th>\n",
       "      <th>Reviews</th>\n",
       "      <th>Size</th>\n",
       "      <th>Installs</th>\n",
       "      <th>Type</th>\n",
       "      <th>Price</th>\n",
       "      <th>Content Rating</th>\n",
       "      <th>Genres</th>\n",
       "      <th>Last Updated</th>\n",
       "      <th>Current Ver</th>\n",
       "      <th>Android Ver</th>\n",
       "    </tr>\n",
       "  </thead>\n",
       "  <tbody>\n",
       "    <tr>\n",
       "      <th>0</th>\n",
       "      <td>Photo Editor &amp; Candy Camera &amp; Grid &amp; ScrapBook</td>\n",
       "      <td>ART_AND_DESIGN</td>\n",
       "      <td>4.1</td>\n",
       "      <td>159</td>\n",
       "      <td>19M</td>\n",
       "      <td>10,000+</td>\n",
       "      <td>Free</td>\n",
       "      <td>0</td>\n",
       "      <td>Everyone</td>\n",
       "      <td>Art &amp; Design</td>\n",
       "      <td>January 7, 2018</td>\n",
       "      <td>1.0.0</td>\n",
       "      <td>4.0.3 and up</td>\n",
       "    </tr>\n",
       "    <tr>\n",
       "      <th>1</th>\n",
       "      <td>Coloring book moana</td>\n",
       "      <td>ART_AND_DESIGN</td>\n",
       "      <td>3.9</td>\n",
       "      <td>967</td>\n",
       "      <td>14M</td>\n",
       "      <td>500,000+</td>\n",
       "      <td>Free</td>\n",
       "      <td>0</td>\n",
       "      <td>Everyone</td>\n",
       "      <td>Art &amp; Design;Pretend Play</td>\n",
       "      <td>January 15, 2018</td>\n",
       "      <td>2.0.0</td>\n",
       "      <td>4.0.3 and up</td>\n",
       "    </tr>\n",
       "    <tr>\n",
       "      <th>2</th>\n",
       "      <td>U Launcher Lite – FREE Live Cool Themes, Hide ...</td>\n",
       "      <td>ART_AND_DESIGN</td>\n",
       "      <td>4.7</td>\n",
       "      <td>87510</td>\n",
       "      <td>8.7M</td>\n",
       "      <td>5,000,000+</td>\n",
       "      <td>Free</td>\n",
       "      <td>0</td>\n",
       "      <td>Everyone</td>\n",
       "      <td>Art &amp; Design</td>\n",
       "      <td>August 1, 2018</td>\n",
       "      <td>1.2.4</td>\n",
       "      <td>4.0.3 and up</td>\n",
       "    </tr>\n",
       "    <tr>\n",
       "      <th>3</th>\n",
       "      <td>Sketch - Draw &amp; Paint</td>\n",
       "      <td>ART_AND_DESIGN</td>\n",
       "      <td>4.5</td>\n",
       "      <td>215644</td>\n",
       "      <td>25M</td>\n",
       "      <td>50,000,000+</td>\n",
       "      <td>Free</td>\n",
       "      <td>0</td>\n",
       "      <td>Teen</td>\n",
       "      <td>Art &amp; Design</td>\n",
       "      <td>June 8, 2018</td>\n",
       "      <td>Varies with device</td>\n",
       "      <td>4.2 and up</td>\n",
       "    </tr>\n",
       "    <tr>\n",
       "      <th>4</th>\n",
       "      <td>Pixel Draw - Number Art Coloring Book</td>\n",
       "      <td>ART_AND_DESIGN</td>\n",
       "      <td>4.3</td>\n",
       "      <td>967</td>\n",
       "      <td>2.8M</td>\n",
       "      <td>100,000+</td>\n",
       "      <td>Free</td>\n",
       "      <td>0</td>\n",
       "      <td>Everyone</td>\n",
       "      <td>Art &amp; Design;Creativity</td>\n",
       "      <td>June 20, 2018</td>\n",
       "      <td>1.1</td>\n",
       "      <td>4.4 and up</td>\n",
       "    </tr>\n",
       "  </tbody>\n",
       "</table>\n",
       "</div>"
      ],
      "text/plain": [
       "                                                 App        Category  Rating  \\\n",
       "0     Photo Editor & Candy Camera & Grid & ScrapBook  ART_AND_DESIGN     4.1   \n",
       "1                                Coloring book moana  ART_AND_DESIGN     3.9   \n",
       "2  U Launcher Lite – FREE Live Cool Themes, Hide ...  ART_AND_DESIGN     4.7   \n",
       "3                              Sketch - Draw & Paint  ART_AND_DESIGN     4.5   \n",
       "4              Pixel Draw - Number Art Coloring Book  ART_AND_DESIGN     4.3   \n",
       "\n",
       "  Reviews  Size     Installs  Type Price Content Rating  \\\n",
       "0     159   19M      10,000+  Free     0       Everyone   \n",
       "1     967   14M     500,000+  Free     0       Everyone   \n",
       "2   87510  8.7M   5,000,000+  Free     0       Everyone   \n",
       "3  215644   25M  50,000,000+  Free     0           Teen   \n",
       "4     967  2.8M     100,000+  Free     0       Everyone   \n",
       "\n",
       "                      Genres      Last Updated         Current Ver  \\\n",
       "0               Art & Design   January 7, 2018               1.0.0   \n",
       "1  Art & Design;Pretend Play  January 15, 2018               2.0.0   \n",
       "2               Art & Design    August 1, 2018               1.2.4   \n",
       "3               Art & Design      June 8, 2018  Varies with device   \n",
       "4    Art & Design;Creativity     June 20, 2018                 1.1   \n",
       "\n",
       "    Android Ver  \n",
       "0  4.0.3 and up  \n",
       "1  4.0.3 and up  \n",
       "2  4.0.3 and up  \n",
       "3    4.2 and up  \n",
       "4    4.4 and up  "
      ]
     },
     "execution_count": 187,
     "metadata": {},
     "output_type": "execute_result"
    }
   ],
   "source": [
    "playstore.head(5)"
   ]
  },
  {
   "cell_type": "code",
   "execution_count": 188,
   "metadata": {},
   "outputs": [
    {
     "data": {
      "text/plain": [
       "(10841, 13)"
      ]
     },
     "execution_count": 188,
     "metadata": {},
     "output_type": "execute_result"
    }
   ],
   "source": [
    "playstore.shape"
   ]
  },
  {
   "cell_type": "markdown",
   "metadata": {},
   "source": [
    "### Check for null values"
   ]
  },
  {
   "cell_type": "code",
   "execution_count": 189,
   "metadata": {},
   "outputs": [
    {
     "data": {
      "text/plain": [
       "App                  0\n",
       "Category             0\n",
       "Rating            1474\n",
       "Reviews              0\n",
       "Size                 0\n",
       "Installs             0\n",
       "Type                 1\n",
       "Price                0\n",
       "Content Rating       1\n",
       "Genres               0\n",
       "Last Updated         0\n",
       "Current Ver          8\n",
       "Android Ver          3\n",
       "dtype: int64"
      ]
     },
     "execution_count": 189,
     "metadata": {},
     "output_type": "execute_result"
    }
   ],
   "source": [
    "playstore.isnull().sum()"
   ]
  },
  {
   "cell_type": "code",
   "execution_count": 190,
   "metadata": {},
   "outputs": [],
   "source": [
    "playstore.dropna(inplace=True)"
   ]
  },
  {
   "cell_type": "code",
   "execution_count": 191,
   "metadata": {},
   "outputs": [
    {
     "data": {
      "text/plain": [
       "App               0\n",
       "Category          0\n",
       "Rating            0\n",
       "Reviews           0\n",
       "Size              0\n",
       "Installs          0\n",
       "Type              0\n",
       "Price             0\n",
       "Content Rating    0\n",
       "Genres            0\n",
       "Last Updated      0\n",
       "Current Ver       0\n",
       "Android Ver       0\n",
       "dtype: int64"
      ]
     },
     "execution_count": 191,
     "metadata": {},
     "output_type": "execute_result"
    }
   ],
   "source": [
    "playstore.isnull().sum()"
   ]
  },
  {
   "cell_type": "code",
   "execution_count": 192,
   "metadata": {},
   "outputs": [
    {
     "data": {
      "text/plain": [
       "(9360, 13)"
      ]
     },
     "execution_count": 192,
     "metadata": {},
     "output_type": "execute_result"
    }
   ],
   "source": [
    "playstore.shape"
   ]
  },
  {
   "cell_type": "markdown",
   "metadata": {},
   "source": [
    "### Data Exploration"
   ]
  },
  {
   "cell_type": "markdown",
   "metadata": {},
   "source": [
    "Ask what kind of information needed in order to build an successful app?\n",
    "What market should a developer?"
   ]
  },
  {
   "cell_type": "code",
   "execution_count": 193,
   "metadata": {},
   "outputs": [
    {
     "data": {
      "text/plain": [
       "Index(['App', 'Category', 'Rating', 'Reviews', 'Size', 'Installs', 'Type',\n",
       "       'Price', 'Content Rating', 'Genres', 'Last Updated', 'Current Ver',\n",
       "       'Android Ver'],\n",
       "      dtype='object')"
      ]
     },
     "execution_count": 193,
     "metadata": {},
     "output_type": "execute_result"
    }
   ],
   "source": [
    "cols=playstore.columns\n",
    "cols"
   ]
  },
  {
   "cell_type": "code",
   "execution_count": 194,
   "metadata": {},
   "outputs": [
    {
     "data": {
      "text/plain": [
       "Type\n",
       "Free    8715\n",
       "Paid     645\n",
       "Name: App, dtype: int64"
      ]
     },
     "execution_count": 194,
     "metadata": {},
     "output_type": "execute_result"
    }
   ],
   "source": [
    "#Free and Paid App ratio\n",
    "fp= playstore.groupby(['Type']).count()['App']\n",
    "fp"
   ]
  },
  {
   "cell_type": "code",
   "execution_count": 195,
   "metadata": {},
   "outputs": [],
   "source": [
    "#Looking at the app market\n",
    "pc= playstore.groupby(['Category']).count()['App']"
   ]
  },
  {
   "cell_type": "markdown",
   "metadata": {},
   "source": [
    "### Distruction of Unique App Average Rating in different Categories\n",
    "\n",
    "If I were to make an app I would do it in the category where the left tail is long, because that mean there are lot of bad app, which would you to penetrate the market."
   ]
  },
  {
   "cell_type": "code",
   "execution_count": 196,
   "metadata": {},
   "outputs": [
    {
     "data": {
      "text/plain": [
       "(33,)"
      ]
     },
     "execution_count": 196,
     "metadata": {},
     "output_type": "execute_result"
    }
   ],
   "source": [
    "pc.shape"
   ]
  },
  {
   "cell_type": "code",
   "execution_count": 197,
   "metadata": {},
   "outputs": [],
   "source": [
    "#Replace installs values to int\n",
    "playstore.Installs = [x.replace(',','') for x in playstore.Installs]\n",
    "playstore.Installs = [x.replace('+','') for x in playstore.Installs]\n",
    "playstore.Installs = [int(x) for x in playstore.Installs]"
   ]
  },
  {
   "cell_type": "code",
   "execution_count": 198,
   "metadata": {},
   "outputs": [
    {
     "data": {
      "text/html": [
       "<div>\n",
       "<style scoped>\n",
       "    .dataframe tbody tr th:only-of-type {\n",
       "        vertical-align: middle;\n",
       "    }\n",
       "\n",
       "    .dataframe tbody tr th {\n",
       "        vertical-align: top;\n",
       "    }\n",
       "\n",
       "    .dataframe thead th {\n",
       "        text-align: right;\n",
       "    }\n",
       "</style>\n",
       "<table border=\"1\" class=\"dataframe\">\n",
       "  <thead>\n",
       "    <tr style=\"text-align: right;\">\n",
       "      <th></th>\n",
       "      <th>App</th>\n",
       "      <th>Category</th>\n",
       "      <th>Rating</th>\n",
       "      <th>Reviews</th>\n",
       "      <th>Size</th>\n",
       "      <th>Installs</th>\n",
       "      <th>Type</th>\n",
       "      <th>Price</th>\n",
       "      <th>Content Rating</th>\n",
       "      <th>Genres</th>\n",
       "      <th>Last Updated</th>\n",
       "      <th>Current Ver</th>\n",
       "      <th>Android Ver</th>\n",
       "    </tr>\n",
       "  </thead>\n",
       "  <tbody>\n",
       "    <tr>\n",
       "      <th>451</th>\n",
       "      <td>Gmail</td>\n",
       "      <td>COMMUNICATION</td>\n",
       "      <td>4.3</td>\n",
       "      <td>4604483</td>\n",
       "      <td>Varies with device</td>\n",
       "      <td>1000000000</td>\n",
       "      <td>Free</td>\n",
       "      <td>0</td>\n",
       "      <td>Everyone</td>\n",
       "      <td>Communication</td>\n",
       "      <td>August 2, 2018</td>\n",
       "      <td>Varies with device</td>\n",
       "      <td>Varies with device</td>\n",
       "    </tr>\n",
       "    <tr>\n",
       "      <th>3665</th>\n",
       "      <td>YouTube</td>\n",
       "      <td>VIDEO_PLAYERS</td>\n",
       "      <td>4.3</td>\n",
       "      <td>25655305</td>\n",
       "      <td>Varies with device</td>\n",
       "      <td>1000000000</td>\n",
       "      <td>Free</td>\n",
       "      <td>0</td>\n",
       "      <td>Teen</td>\n",
       "      <td>Video Players &amp; Editors</td>\n",
       "      <td>August 2, 2018</td>\n",
       "      <td>Varies with device</td>\n",
       "      <td>Varies with device</td>\n",
       "    </tr>\n",
       "    <tr>\n",
       "      <th>382</th>\n",
       "      <td>Messenger – Text and Video Chat for Free</td>\n",
       "      <td>COMMUNICATION</td>\n",
       "      <td>4.0</td>\n",
       "      <td>56646578</td>\n",
       "      <td>Varies with device</td>\n",
       "      <td>1000000000</td>\n",
       "      <td>Free</td>\n",
       "      <td>0</td>\n",
       "      <td>Everyone</td>\n",
       "      <td>Communication</td>\n",
       "      <td>August 1, 2018</td>\n",
       "      <td>Varies with device</td>\n",
       "      <td>Varies with device</td>\n",
       "    </tr>\n",
       "    <tr>\n",
       "      <th>386</th>\n",
       "      <td>Hangouts</td>\n",
       "      <td>COMMUNICATION</td>\n",
       "      <td>4.0</td>\n",
       "      <td>3419433</td>\n",
       "      <td>Varies with device</td>\n",
       "      <td>1000000000</td>\n",
       "      <td>Free</td>\n",
       "      <td>0</td>\n",
       "      <td>Everyone</td>\n",
       "      <td>Communication</td>\n",
       "      <td>July 21, 2018</td>\n",
       "      <td>Varies with device</td>\n",
       "      <td>Varies with device</td>\n",
       "    </tr>\n",
       "    <tr>\n",
       "      <th>391</th>\n",
       "      <td>Skype - free IM &amp; video calls</td>\n",
       "      <td>COMMUNICATION</td>\n",
       "      <td>4.1</td>\n",
       "      <td>10484169</td>\n",
       "      <td>Varies with device</td>\n",
       "      <td>1000000000</td>\n",
       "      <td>Free</td>\n",
       "      <td>0</td>\n",
       "      <td>Everyone</td>\n",
       "      <td>Communication</td>\n",
       "      <td>August 3, 2018</td>\n",
       "      <td>Varies with device</td>\n",
       "      <td>Varies with device</td>\n",
       "    </tr>\n",
       "    <tr>\n",
       "      <th>3687</th>\n",
       "      <td>Google Play Movies &amp; TV</td>\n",
       "      <td>VIDEO_PLAYERS</td>\n",
       "      <td>3.7</td>\n",
       "      <td>906384</td>\n",
       "      <td>Varies with device</td>\n",
       "      <td>1000000000</td>\n",
       "      <td>Free</td>\n",
       "      <td>0</td>\n",
       "      <td>Teen</td>\n",
       "      <td>Video Players &amp; Editors</td>\n",
       "      <td>August 6, 2018</td>\n",
       "      <td>Varies with device</td>\n",
       "      <td>Varies with device</td>\n",
       "    </tr>\n",
       "    <tr>\n",
       "      <th>411</th>\n",
       "      <td>Google Chrome: Fast &amp; Secure</td>\n",
       "      <td>COMMUNICATION</td>\n",
       "      <td>4.3</td>\n",
       "      <td>9643041</td>\n",
       "      <td>Varies with device</td>\n",
       "      <td>1000000000</td>\n",
       "      <td>Free</td>\n",
       "      <td>0</td>\n",
       "      <td>Everyone</td>\n",
       "      <td>Communication</td>\n",
       "      <td>August 1, 2018</td>\n",
       "      <td>Varies with device</td>\n",
       "      <td>Varies with device</td>\n",
       "    </tr>\n",
       "    <tr>\n",
       "      <th>3736</th>\n",
       "      <td>Google News</td>\n",
       "      <td>NEWS_AND_MAGAZINES</td>\n",
       "      <td>3.9</td>\n",
       "      <td>877635</td>\n",
       "      <td>13M</td>\n",
       "      <td>1000000000</td>\n",
       "      <td>Free</td>\n",
       "      <td>0</td>\n",
       "      <td>Teen</td>\n",
       "      <td>News &amp; Magazines</td>\n",
       "      <td>August 1, 2018</td>\n",
       "      <td>5.2.0</td>\n",
       "      <td>4.4 and up</td>\n",
       "    </tr>\n",
       "    <tr>\n",
       "      <th>3765</th>\n",
       "      <td>Google News</td>\n",
       "      <td>NEWS_AND_MAGAZINES</td>\n",
       "      <td>3.9</td>\n",
       "      <td>877635</td>\n",
       "      <td>13M</td>\n",
       "      <td>1000000000</td>\n",
       "      <td>Free</td>\n",
       "      <td>0</td>\n",
       "      <td>Teen</td>\n",
       "      <td>News &amp; Magazines</td>\n",
       "      <td>August 1, 2018</td>\n",
       "      <td>5.2.0</td>\n",
       "      <td>4.4 and up</td>\n",
       "    </tr>\n",
       "    <tr>\n",
       "      <th>865</th>\n",
       "      <td>Google Play Games</td>\n",
       "      <td>ENTERTAINMENT</td>\n",
       "      <td>4.3</td>\n",
       "      <td>7165362</td>\n",
       "      <td>Varies with device</td>\n",
       "      <td>1000000000</td>\n",
       "      <td>Free</td>\n",
       "      <td>0</td>\n",
       "      <td>Teen</td>\n",
       "      <td>Entertainment</td>\n",
       "      <td>July 16, 2018</td>\n",
       "      <td>Varies with device</td>\n",
       "      <td>Varies with device</td>\n",
       "    </tr>\n",
       "  </tbody>\n",
       "</table>\n",
       "</div>"
      ],
      "text/plain": [
       "                                           App            Category  Rating  \\\n",
       "451                                      Gmail       COMMUNICATION     4.3   \n",
       "3665                                   YouTube       VIDEO_PLAYERS     4.3   \n",
       "382   Messenger – Text and Video Chat for Free       COMMUNICATION     4.0   \n",
       "386                                   Hangouts       COMMUNICATION     4.0   \n",
       "391              Skype - free IM & video calls       COMMUNICATION     4.1   \n",
       "3687                   Google Play Movies & TV       VIDEO_PLAYERS     3.7   \n",
       "411               Google Chrome: Fast & Secure       COMMUNICATION     4.3   \n",
       "3736                               Google News  NEWS_AND_MAGAZINES     3.9   \n",
       "3765                               Google News  NEWS_AND_MAGAZINES     3.9   \n",
       "865                          Google Play Games       ENTERTAINMENT     4.3   \n",
       "\n",
       "       Reviews                Size    Installs  Type Price Content Rating  \\\n",
       "451    4604483  Varies with device  1000000000  Free     0       Everyone   \n",
       "3665  25655305  Varies with device  1000000000  Free     0           Teen   \n",
       "382   56646578  Varies with device  1000000000  Free     0       Everyone   \n",
       "386    3419433  Varies with device  1000000000  Free     0       Everyone   \n",
       "391   10484169  Varies with device  1000000000  Free     0       Everyone   \n",
       "3687    906384  Varies with device  1000000000  Free     0           Teen   \n",
       "411    9643041  Varies with device  1000000000  Free     0       Everyone   \n",
       "3736    877635                 13M  1000000000  Free     0           Teen   \n",
       "3765    877635                 13M  1000000000  Free     0           Teen   \n",
       "865    7165362  Varies with device  1000000000  Free     0           Teen   \n",
       "\n",
       "                       Genres    Last Updated         Current Ver  \\\n",
       "451             Communication  August 2, 2018  Varies with device   \n",
       "3665  Video Players & Editors  August 2, 2018  Varies with device   \n",
       "382             Communication  August 1, 2018  Varies with device   \n",
       "386             Communication   July 21, 2018  Varies with device   \n",
       "391             Communication  August 3, 2018  Varies with device   \n",
       "3687  Video Players & Editors  August 6, 2018  Varies with device   \n",
       "411             Communication  August 1, 2018  Varies with device   \n",
       "3736         News & Magazines  August 1, 2018               5.2.0   \n",
       "3765         News & Magazines  August 1, 2018               5.2.0   \n",
       "865             Entertainment   July 16, 2018  Varies with device   \n",
       "\n",
       "             Android Ver  \n",
       "451   Varies with device  \n",
       "3665  Varies with device  \n",
       "382   Varies with device  \n",
       "386   Varies with device  \n",
       "391   Varies with device  \n",
       "3687  Varies with device  \n",
       "411   Varies with device  \n",
       "3736          4.4 and up  \n",
       "3765          4.4 and up  \n",
       "865   Varies with device  "
      ]
     },
     "execution_count": 198,
     "metadata": {},
     "output_type": "execute_result"
    }
   ],
   "source": [
    "playstore.sort_values(by=['Installs'],ascending=False).head(10)"
   ]
  },
  {
   "cell_type": "markdown",
   "metadata": {},
   "source": [
    "## Installs vs Category\n",
    "\n",
    "suprisingly communication and game has the most downloads"
   ]
  },
  {
   "cell_type": "code",
   "execution_count": 199,
   "metadata": {},
   "outputs": [
    {
     "name": "stderr",
     "output_type": "stream",
     "text": [
      "c:\\users\\prath\\appdata\\local\\programs\\python\\python37\\lib\\site-packages\\seaborn\\_decorators.py:43: FutureWarning: Pass the following variables as keyword args: x, y. From version 0.12, the only valid positional argument will be `data`, and passing other arguments without an explicit keyword will result in an error or misinterpretation.\n",
      "  FutureWarning\n"
     ]
    },
    {
     "data": {
      "image/png": "[encoded data removed]",
      "text/plain": [
       "<Figure size 1440x720 with 1 Axes>"
      ]
     },
     "metadata": {
      "needs_background": "light"
     },
     "output_type": "display_data"
    }
   ],
   "source": [
    "ins=[playstore.loc[playstore['Category'] == x]['Installs'].sum() for x in pc.index]\n",
    "plt.subplots(figsize=(20,10))\n",
    "ax = sns.barplot(pc.index,ins)\n",
    "ax.set_xticklabels(labels=pc.index,rotation=90)\n",
    "ax.set_ylabel('Installs')\n",
    "ax.set_title('Number of Installs Per Cateogry')\n",
    "plt.show()"
   ]
  },
  {
   "cell_type": "markdown",
   "metadata": {},
   "source": [
    "### Distribution of file size"
   ]
  },
  {
   "cell_type": "code",
   "execution_count": 200,
   "metadata": {},
   "outputs": [
    {
     "data": {
      "text/plain": [
       "array(['19M', '14M', '8.7M', '25M', '2.8M', '5.6M', '29M', '33M', '3.1M',\n",
       "       '28M', '12M', '20M', '21M', '37M', '5.5M', '17M', '39M', '31M',\n",
       "       '4.2M', '23M', '6.0M', '6.1M', '4.6M', '9.2M', '5.2M', '11M',\n",
       "       '24M', 'Varies with device', '9.4M', '15M', '10M', '1.2M', '26M',\n",
       "       '8.0M', '7.9M', '56M', '57M', '35M', '54M', '201k', '3.6M', '5.7M',\n",
       "       '8.6M', '2.4M', '27M', '2.7M', '2.5M', '7.0M', '16M', '3.4M',\n",
       "       '8.9M', '3.9M', '2.9M', '38M', '32M', '5.4M', '18M', '1.1M',\n",
       "       '2.2M', '4.5M', '9.8M', '52M', '9.0M', '6.7M', '30M', '2.6M',\n",
       "       '7.1M', '22M', '6.4M', '3.2M', '8.2M', '4.9M', '9.5M', '5.0M',\n",
       "       '5.9M', '13M', '73M', '6.8M', '3.5M', '4.0M', '2.3M', '2.1M',\n",
       "       '42M', '9.1M', '55M', '23k', '7.3M', '6.5M', '1.5M', '7.5M', '51M',\n",
       "       '41M', '48M', '8.5M', '46M', '8.3M', '4.3M', '4.7M', '3.3M', '40M',\n",
       "       '7.8M', '8.8M', '6.6M', '5.1M', '61M', '66M', '79k', '8.4M',\n",
       "       '3.7M', '118k', '44M', '695k', '1.6M', '6.2M', '53M', '1.4M',\n",
       "       '3.0M', '7.2M', '5.8M', '3.8M', '9.6M', '45M', '63M', '49M', '77M',\n",
       "       '4.4M', '70M', '9.3M', '8.1M', '36M', '6.9M', '7.4M', '84M', '97M',\n",
       "       '2.0M', '1.9M', '1.8M', '5.3M', '47M', '556k', '526k', '76M',\n",
       "       '7.6M', '59M', '9.7M', '78M', '72M', '43M', '7.7M', '6.3M', '334k',\n",
       "       '93M', '65M', '79M', '100M', '58M', '50M', '68M', '64M', '34M',\n",
       "       '67M', '60M', '94M', '9.9M', '232k', '99M', '624k', '95M', '8.5k',\n",
       "       '41k', '292k', '80M', '1.7M', '10.0M', '74M', '62M', '69M', '75M',\n",
       "       '98M', '85M', '82M', '96M', '87M', '71M', '86M', '91M', '81M',\n",
       "       '92M', '83M', '88M', '704k', '862k', '899k', '378k', '4.8M',\n",
       "       '266k', '375k', '1.3M', '975k', '980k', '4.1M', '89M', '696k',\n",
       "       '544k', '525k', '920k', '779k', '853k', '720k', '713k', '772k',\n",
       "       '318k', '58k', '241k', '196k', '857k', '51k', '953k', '865k',\n",
       "       '251k', '930k', '540k', '313k', '746k', '203k', '26k', '314k',\n",
       "       '239k', '371k', '220k', '730k', '756k', '91k', '293k', '17k',\n",
       "       '74k', '14k', '317k', '78k', '924k', '818k', '81k', '939k', '169k',\n",
       "       '45k', '965k', '90M', '545k', '61k', '283k', '655k', '714k', '93k',\n",
       "       '872k', '121k', '322k', '976k', '206k', '954k', '444k', '717k',\n",
       "       '210k', '609k', '308k', '306k', '175k', '350k', '383k', '454k',\n",
       "       '1.0M', '70k', '812k', '442k', '842k', '417k', '412k', '459k',\n",
       "       '478k', '335k', '782k', '721k', '430k', '429k', '192k', '460k',\n",
       "       '728k', '496k', '816k', '414k', '506k', '887k', '613k', '778k',\n",
       "       '683k', '592k', '186k', '840k', '647k', '373k', '437k', '598k',\n",
       "       '716k', '585k', '982k', '219k', '55k', '323k', '691k', '511k',\n",
       "       '951k', '963k', '25k', '554k', '351k', '27k', '82k', '208k',\n",
       "       '551k', '29k', '103k', '116k', '153k', '209k', '499k', '173k',\n",
       "       '597k', '809k', '122k', '411k', '400k', '801k', '787k', '50k',\n",
       "       '643k', '986k', '516k', '837k', '780k', '20k', '498k', '600k',\n",
       "       '656k', '221k', '228k', '176k', '34k', '259k', '164k', '458k',\n",
       "       '629k', '28k', '288k', '775k', '785k', '636k', '916k', '994k',\n",
       "       '309k', '485k', '914k', '903k', '608k', '500k', '54k', '562k',\n",
       "       '847k', '948k', '811k', '270k', '48k', '523k', '784k', '280k',\n",
       "       '24k', '892k', '154k', '18k', '33k', '860k', '364k', '387k',\n",
       "       '626k', '161k', '879k', '39k', '170k', '141k', '160k', '144k',\n",
       "       '143k', '190k', '376k', '193k', '473k', '246k', '73k', '253k',\n",
       "       '957k', '420k', '72k', '404k', '470k', '226k', '240k', '89k',\n",
       "       '234k', '257k', '861k', '467k', '676k', '552k', '582k', '619k'],\n",
       "      dtype=object)"
      ]
     },
     "execution_count": 200,
     "metadata": {},
     "output_type": "execute_result"
    }
   ],
   "source": [
    "playstore.Size.unique()"
   ]
  },
  {
   "cell_type": "code",
   "execution_count": 201,
   "metadata": {},
   "outputs": [],
   "source": [
    "playstore.Size= [x.replace('Varies with device','0') for x in playstore.Size]\n",
    "playstore.Size= [x.replace('M','000000') for x in playstore.Size]\n",
    "playstore.Size = [x.replace('k','000') for x in playstore.Size]\n",
    "playstore.Size = [float(x) for x in playstore.Size]\n",
    "playstore.Size = [x*1000000 if x<10 else x for x in playstore.Size]\n",
    "playstore.Size = [ x/1000000 for x in playstore.Size]"
   ]
  },
  {
   "cell_type": "code",
   "execution_count": 202,
   "metadata": {},
   "outputs": [
    {
     "data": {
      "text/html": [
       "<div>\n",
       "<style scoped>\n",
       "    .dataframe tbody tr th:only-of-type {\n",
       "        vertical-align: middle;\n",
       "    }\n",
       "\n",
       "    .dataframe tbody tr th {\n",
       "        vertical-align: top;\n",
       "    }\n",
       "\n",
       "    .dataframe thead th {\n",
       "        text-align: right;\n",
       "    }\n",
       "</style>\n",
       "<table border=\"1\" class=\"dataframe\">\n",
       "  <thead>\n",
       "    <tr style=\"text-align: right;\">\n",
       "      <th></th>\n",
       "      <th>App</th>\n",
       "      <th>Category</th>\n",
       "      <th>Rating</th>\n",
       "      <th>Reviews</th>\n",
       "      <th>Size</th>\n",
       "      <th>Installs</th>\n",
       "      <th>Type</th>\n",
       "      <th>Price</th>\n",
       "      <th>Content Rating</th>\n",
       "      <th>Genres</th>\n",
       "      <th>Last Updated</th>\n",
       "      <th>Current Ver</th>\n",
       "      <th>Android Ver</th>\n",
       "    </tr>\n",
       "  </thead>\n",
       "  <tbody>\n",
       "    <tr>\n",
       "      <th>0</th>\n",
       "      <td>Photo Editor &amp; Candy Camera &amp; Grid &amp; ScrapBook</td>\n",
       "      <td>ART_AND_DESIGN</td>\n",
       "      <td>4.1</td>\n",
       "      <td>159</td>\n",
       "      <td>19.0</td>\n",
       "      <td>10000</td>\n",
       "      <td>Free</td>\n",
       "      <td>0</td>\n",
       "      <td>Everyone</td>\n",
       "      <td>Art &amp; Design</td>\n",
       "      <td>January 7, 2018</td>\n",
       "      <td>1.0.0</td>\n",
       "      <td>4.0.3 and up</td>\n",
       "    </tr>\n",
       "    <tr>\n",
       "      <th>1</th>\n",
       "      <td>Coloring book moana</td>\n",
       "      <td>ART_AND_DESIGN</td>\n",
       "      <td>3.9</td>\n",
       "      <td>967</td>\n",
       "      <td>14.0</td>\n",
       "      <td>500000</td>\n",
       "      <td>Free</td>\n",
       "      <td>0</td>\n",
       "      <td>Everyone</td>\n",
       "      <td>Art &amp; Design;Pretend Play</td>\n",
       "      <td>January 15, 2018</td>\n",
       "      <td>2.0.0</td>\n",
       "      <td>4.0.3 and up</td>\n",
       "    </tr>\n",
       "    <tr>\n",
       "      <th>2</th>\n",
       "      <td>U Launcher Lite – FREE Live Cool Themes, Hide ...</td>\n",
       "      <td>ART_AND_DESIGN</td>\n",
       "      <td>4.7</td>\n",
       "      <td>87510</td>\n",
       "      <td>8.7</td>\n",
       "      <td>5000000</td>\n",
       "      <td>Free</td>\n",
       "      <td>0</td>\n",
       "      <td>Everyone</td>\n",
       "      <td>Art &amp; Design</td>\n",
       "      <td>August 1, 2018</td>\n",
       "      <td>1.2.4</td>\n",
       "      <td>4.0.3 and up</td>\n",
       "    </tr>\n",
       "    <tr>\n",
       "      <th>3</th>\n",
       "      <td>Sketch - Draw &amp; Paint</td>\n",
       "      <td>ART_AND_DESIGN</td>\n",
       "      <td>4.5</td>\n",
       "      <td>215644</td>\n",
       "      <td>25.0</td>\n",
       "      <td>50000000</td>\n",
       "      <td>Free</td>\n",
       "      <td>0</td>\n",
       "      <td>Teen</td>\n",
       "      <td>Art &amp; Design</td>\n",
       "      <td>June 8, 2018</td>\n",
       "      <td>Varies with device</td>\n",
       "      <td>4.2 and up</td>\n",
       "    </tr>\n",
       "    <tr>\n",
       "      <th>4</th>\n",
       "      <td>Pixel Draw - Number Art Coloring Book</td>\n",
       "      <td>ART_AND_DESIGN</td>\n",
       "      <td>4.3</td>\n",
       "      <td>967</td>\n",
       "      <td>2.8</td>\n",
       "      <td>100000</td>\n",
       "      <td>Free</td>\n",
       "      <td>0</td>\n",
       "      <td>Everyone</td>\n",
       "      <td>Art &amp; Design;Creativity</td>\n",
       "      <td>June 20, 2018</td>\n",
       "      <td>1.1</td>\n",
       "      <td>4.4 and up</td>\n",
       "    </tr>\n",
       "  </tbody>\n",
       "</table>\n",
       "</div>"
      ],
      "text/plain": [
       "                                                 App        Category  Rating  \\\n",
       "0     Photo Editor & Candy Camera & Grid & ScrapBook  ART_AND_DESIGN     4.1   \n",
       "1                                Coloring book moana  ART_AND_DESIGN     3.9   \n",
       "2  U Launcher Lite – FREE Live Cool Themes, Hide ...  ART_AND_DESIGN     4.7   \n",
       "3                              Sketch - Draw & Paint  ART_AND_DESIGN     4.5   \n",
       "4              Pixel Draw - Number Art Coloring Book  ART_AND_DESIGN     4.3   \n",
       "\n",
       "  Reviews  Size  Installs  Type Price Content Rating  \\\n",
       "0     159  19.0     10000  Free     0       Everyone   \n",
       "1     967  14.0    500000  Free     0       Everyone   \n",
       "2   87510   8.7   5000000  Free     0       Everyone   \n",
       "3  215644  25.0  50000000  Free     0           Teen   \n",
       "4     967   2.8    100000  Free     0       Everyone   \n",
       "\n",
       "                      Genres      Last Updated         Current Ver  \\\n",
       "0               Art & Design   January 7, 2018               1.0.0   \n",
       "1  Art & Design;Pretend Play  January 15, 2018               2.0.0   \n",
       "2               Art & Design    August 1, 2018               1.2.4   \n",
       "3               Art & Design      June 8, 2018  Varies with device   \n",
       "4    Art & Design;Creativity     June 20, 2018                 1.1   \n",
       "\n",
       "    Android Ver  \n",
       "0  4.0.3 and up  \n",
       "1  4.0.3 and up  \n",
       "2  4.0.3 and up  \n",
       "3    4.2 and up  \n",
       "4    4.4 and up  "
      ]
     },
     "execution_count": 202,
     "metadata": {},
     "output_type": "execute_result"
    }
   ],
   "source": [
    "playstore.head()"
   ]
  },
  {
   "cell_type": "code",
   "execution_count": 203,
   "metadata": {},
   "outputs": [],
   "source": [
    "playstore.Reviews = playstore.Reviews.apply(pd.to_numeric)"
   ]
  },
  {
   "cell_type": "code",
   "execution_count": 204,
   "metadata": {},
   "outputs": [
    {
     "data": {
      "text/plain": [
       "array(['0', '$4.99', '$3.99', '$6.99', '$7.99', '$5.99', '$2.99', '$3.49',\n",
       "       '$1.99', '$9.99', '$7.49', '$0.99', '$9.00', '$5.49', '$10.00',\n",
       "       '$24.99', '$11.99', '$79.99', '$16.99', '$14.99', '$29.99',\n",
       "       '$12.99', '$2.49', '$10.99', '$1.50', '$19.99', '$15.99', '$33.99',\n",
       "       '$39.99', '$3.95', '$4.49', '$1.70', '$8.99', '$1.49', '$3.88',\n",
       "       '$399.99', '$17.99', '$400.00', '$3.02', '$1.76', '$4.84', '$4.77',\n",
       "       '$1.61', '$2.50', '$1.59', '$6.49', '$1.29', '$299.99', '$379.99',\n",
       "       '$37.99', '$18.99', '$389.99', '$8.49', '$1.75', '$14.00', '$2.00',\n",
       "       '$3.08', '$2.59', '$19.40', '$3.90', '$4.59', '$15.46', '$3.04',\n",
       "       '$13.99', '$4.29', '$3.28', '$4.60', '$1.00', '$2.95', '$2.90',\n",
       "       '$1.97', '$2.56', '$1.20'], dtype=object)"
      ]
     },
     "execution_count": 204,
     "metadata": {},
     "output_type": "execute_result"
    }
   ],
   "source": [
    "playstore.Price.unique()"
   ]
  },
  {
   "cell_type": "code",
   "execution_count": 205,
   "metadata": {},
   "outputs": [
    {
     "data": {
      "text/plain": [
       "array([  0.  ,   4.99,   3.99,   6.99,   7.99,   5.99,   2.99,   3.49,\n",
       "         1.99,   9.99,   7.49,   0.99,   9.  ,   5.49,  10.  ,  24.99,\n",
       "        11.99,  79.99,  16.99,  14.99,  29.99,  12.99,   2.49,  10.99,\n",
       "         1.5 ,  19.99,  15.99,  33.99,  39.99,   3.95,   4.49,   1.7 ,\n",
       "         8.99,   1.49,   3.88, 399.99,  17.99, 400.  ,   3.02,   1.76,\n",
       "         4.84,   4.77,   1.61,   2.5 ,   1.59,   6.49,   1.29, 299.99,\n",
       "       379.99,  37.99,  18.99, 389.99,   8.49,   1.75,  14.  ,   2.  ,\n",
       "         3.08,   2.59,  19.4 ,   3.9 ,   4.59,  15.46,   3.04,  13.99,\n",
       "         4.29,   3.28,   4.6 ,   1.  ,   2.95,   2.9 ,   1.97,   2.56,\n",
       "         1.2 ])"
      ]
     },
     "execution_count": 205,
     "metadata": {},
     "output_type": "execute_result"
    }
   ],
   "source": [
    "playstore.Price = [x.replace('$','') for x in playstore.Price]\n",
    "playstore.Price = [float(x) for x in playstore.Price]\n",
    "playstore.Price.unique()"
   ]
  },
  {
   "cell_type": "markdown",
   "metadata": {},
   "source": [
    "### Content Rating Pie chart"
   ]
  },
  {
   "cell_type": "code",
   "execution_count": 206,
   "metadata": {},
   "outputs": [
    {
     "data": {
      "image/png": "[encoded data removed]",
      "text/plain": [
       "<Figure size 1440x720 with 1 Axes>"
      ]
     },
     "metadata": {},
     "output_type": "display_data"
    }
   ],
   "source": [
    "crp= playstore.groupby(['Content Rating']).count()['App']\n",
    "plt.subplots(figsize=(20,10))\n",
    "plt.pie(crp.values, autopct='%.2f%%')\n",
    "plt.legend(crp.index)\n",
    "plt.show()"
   ]
  },
  {
   "cell_type": "code",
   "execution_count": 207,
   "metadata": {},
   "outputs": [
    {
     "data": {
      "text/plain": [
       "array(['Art & Design', 'Art & Design;Pretend Play',\n",
       "       'Art & Design;Creativity', 'Auto & Vehicles', 'Beauty',\n",
       "       'Books & Reference', 'Business', 'Comics', 'Comics;Creativity',\n",
       "       'Communication', 'Dating', 'Education;Education', 'Education',\n",
       "       'Education;Creativity', 'Education;Music & Video',\n",
       "       'Education;Action & Adventure', 'Education;Pretend Play',\n",
       "       'Education;Brain Games', 'Entertainment',\n",
       "       'Entertainment;Music & Video', 'Entertainment;Brain Games',\n",
       "       'Entertainment;Creativity', 'Events', 'Finance', 'Food & Drink',\n",
       "       'Health & Fitness', 'House & Home', 'Libraries & Demo',\n",
       "       'Lifestyle', 'Lifestyle;Pretend Play',\n",
       "       'Adventure;Action & Adventure', 'Arcade', 'Casual', 'Card',\n",
       "       'Casual;Pretend Play', 'Action', 'Strategy', 'Puzzle', 'Sports',\n",
       "       'Music', 'Word', 'Racing', 'Casual;Creativity',\n",
       "       'Casual;Action & Adventure', 'Simulation', 'Adventure', 'Board',\n",
       "       'Trivia', 'Role Playing', 'Simulation;Education',\n",
       "       'Action;Action & Adventure', 'Casual;Brain Games',\n",
       "       'Simulation;Action & Adventure', 'Educational;Creativity',\n",
       "       'Puzzle;Brain Games', 'Educational;Education', 'Card;Brain Games',\n",
       "       'Educational;Brain Games', 'Educational;Pretend Play',\n",
       "       'Entertainment;Education', 'Casual;Education',\n",
       "       'Music;Music & Video', 'Racing;Action & Adventure',\n",
       "       'Arcade;Pretend Play', 'Role Playing;Action & Adventure',\n",
       "       'Simulation;Pretend Play', 'Puzzle;Creativity',\n",
       "       'Sports;Action & Adventure', 'Educational;Action & Adventure',\n",
       "       'Arcade;Action & Adventure', 'Entertainment;Action & Adventure',\n",
       "       'Puzzle;Action & Adventure', 'Strategy;Action & Adventure',\n",
       "       'Music & Audio;Music & Video', 'Health & Fitness;Education',\n",
       "       'Adventure;Education', 'Board;Brain Games',\n",
       "       'Board;Action & Adventure', 'Board;Pretend Play',\n",
       "       'Casual;Music & Video', 'Role Playing;Pretend Play',\n",
       "       'Entertainment;Pretend Play', 'Video Players & Editors;Creativity',\n",
       "       'Card;Action & Adventure', 'Medical', 'Social', 'Shopping',\n",
       "       'Photography', 'Travel & Local',\n",
       "       'Travel & Local;Action & Adventure', 'Tools', 'Tools;Education',\n",
       "       'Personalization', 'Productivity', 'Parenting',\n",
       "       'Parenting;Music & Video', 'Parenting;Brain Games',\n",
       "       'Parenting;Education', 'Weather', 'Video Players & Editors',\n",
       "       'Video Players & Editors;Music & Video', 'News & Magazines',\n",
       "       'Maps & Navigation', 'Health & Fitness;Action & Adventure',\n",
       "       'Educational', 'Casino', 'Adventure;Brain Games',\n",
       "       'Lifestyle;Education', 'Books & Reference;Education',\n",
       "       'Puzzle;Education', 'Role Playing;Brain Games',\n",
       "       'Strategy;Education', 'Racing;Pretend Play',\n",
       "       'Communication;Creativity', 'Strategy;Creativity'], dtype=object)"
      ]
     },
     "execution_count": 207,
     "metadata": {},
     "output_type": "execute_result"
    }
   ],
   "source": [
    "playstore.Genres.unique()"
   ]
  },
  {
   "cell_type": "code",
   "execution_count": 208,
   "metadata": {},
   "outputs": [
    {
     "data": {
      "text/plain": [
       "array(['Art & Design', 'Auto & Vehicles', 'Beauty', 'Books & Reference',\n",
       "       'Business', 'Comics', 'Communication', 'Dating', 'Education',\n",
       "       'Entertainment', 'Events', 'Finance', 'Food & Drink',\n",
       "       'Health & Fitness', 'House & Home', 'Libraries & Demo',\n",
       "       'Lifestyle', 'Adventure', 'Arcade', 'Casual', 'Card', 'Action',\n",
       "       'Strategy', 'Puzzle', 'Sports', 'Music', 'Word', 'Racing',\n",
       "       'Simulation', 'Board', 'Trivia', 'Role Playing', 'Educational',\n",
       "       'Music & Audio', 'Video Players & Editors', 'Medical', 'Social',\n",
       "       'Shopping', 'Photography', 'Travel & Local', 'Tools',\n",
       "       'Personalization', 'Productivity', 'Parenting', 'Weather',\n",
       "       'News & Magazines', 'Maps & Navigation', 'Casino'], dtype=object)"
      ]
     },
     "execution_count": 208,
     "metadata": {},
     "output_type": "execute_result"
    }
   ],
   "source": [
    "playstore.Genres = [x.split(';')[0] for x in playstore.Genres]\n",
    "playstore.Genres.unique()"
   ]
  },
  {
   "cell_type": "code",
   "execution_count": 209,
   "metadata": {},
   "outputs": [
    {
     "data": {
      "text/plain": [
       "array(['4.0.3 and up', '4.2 and up', '4.4 and up', '2.3 and up',\n",
       "       '3.0 and up', '4.1 and up', '4.0 and up', '2.3.3 and up',\n",
       "       'Varies with device', '2.2 and up', '5.0 and up', '6.0 and up',\n",
       "       '1.6 and up', '1.5 and up', '2.1 and up', '7.0 and up',\n",
       "       '4.3 and up', '4.0.3 - 7.1.1', '2.0 and up', '3.2 and up',\n",
       "       '4.4W and up', '5.1 and up', '7.1 and up', '7.0 - 7.1.1',\n",
       "       '8.0 and up', '5.0 - 8.0', '3.1 and up', '2.0.1 and up',\n",
       "       '4.1 - 7.1.1', '5.0 - 6.0', '1.0 and up'], dtype=object)"
      ]
     },
     "execution_count": 209,
     "metadata": {},
     "output_type": "execute_result"
    }
   ],
   "source": [
    "playstore['Android Ver'].unique()"
   ]
  },
  {
   "cell_type": "code",
   "execution_count": 210,
   "metadata": {},
   "outputs": [
    {
     "data": {
      "text/plain": [
       "array([4.03, 4.2 , 4.4 , 2.3 , 3.  , 4.1 , 4.  , 2.33, 0.  , 2.2 , 5.  ,\n",
       "       6.  , 1.6 , 1.5 , 2.1 , 7.  , 4.3 , 2.  , 3.2 , 5.1 , 7.1 , 8.  ,\n",
       "       3.1 , 2.01, 1.  ])"
      ]
     },
     "execution_count": 210,
     "metadata": {},
     "output_type": "execute_result"
    }
   ],
   "source": [
    "playstore['Android Ver'] = [x.replace('W','') for x in playstore['Android Ver']]\n",
    "playstore['Android Ver'] = [x.replace(' and up','') for x in playstore['Android Ver']]\n",
    "playstore['Android Ver'] = [x.replace('.','') for x in playstore['Android Ver']]\n",
    "playstore['Android Ver'] = [x.replace('Varies with device','0') for x in playstore['Android Ver']]\n",
    "playstore['Android Ver'] = [x.split(' - ')[0] for x in playstore['Android Ver']]\n",
    "playstore['Android Ver'] = [float(x)/10 if x!=0 else float(x) for x in playstore['Android Ver']]\n",
    "playstore['Android Ver'] = [x/10 if x>10 else x for x in playstore['Android Ver']]\n",
    "#playstore['Android Ver'] = [np.nan if x==0 else x for x in playstore['Android Ver']]\n",
    "playstore['Android Ver'].unique()"
   ]
  },
  {
   "cell_type": "code",
   "execution_count": 211,
   "metadata": {},
   "outputs": [
    {
     "data": {
      "text/plain": [
       "array(['1', '2', '0', '6', '3', '5', '4', '11', '8', '10', '18', '9',\n",
       "       '15', '14', '7', '99', '12', '37', '24', '47', 'R6', '69', '42',\n",
       "       '196', '2018', '20', '13', 'v1', '01', '43', '16', 'Cannonau 3',\n",
       "       'p5', '112', 'Public', '220', '858', 'v3', 'Version:6', '02',\n",
       "       '3196', '5423', '19', '1_39_93', '79', '108', '57', '60', '149',\n",
       "       '37893', '20180609', '28', '25', '300000', 'PN', 'T4', '50', '27',\n",
       "       '29', '584', '22', '71', '1004', '06', '2017', '17', '53', 'v5',\n",
       "       'MyMetro_HTML_2', 'v8', 'v7', '32', '20180517', 'v150', '40', '68',\n",
       "       'FreeTimeApp-aosp_v3', 'Natalia Studio Development', '30', '116',\n",
       "       '04', '27500000', 'version 0', '5055', 'a', '31', '1009001',\n",
       "       '1900001', 'v8[1', '23', '1805', '1,01', 'v2018', 'H7SubTV0', 'v2',\n",
       "       '263', '65', 'acremotecontrol18', 'v67_slk3',\n",
       "       'airConditionerMaintenance_13112015', '11;11',\n",
       "       'acremotecontrol-v7', 'v4', '117', 'cli-6', 'Version 1', '132',\n",
       "       '10001008', '18060104', '568', '39', '20180608', '20180620',\n",
       "       'Z (Special Edition R9)', 'Cow V3', '3_1', 'Final', 'Arrow-202',\n",
       "       '26', '35', 'V1', 'no_update_signal', '70',\n",
       "       'fcbd82b2-dd5b-41d2-af62-432271c42921', '41', 'The CJ Rubric 7',\n",
       "       '202', '48', 'CL Pro for Craigslist - Canada 150',\n",
       "       'Bowser4Craigslist', 'App copyright', 'Copyright', 'CL Strength 7',\n",
       "       'Gratis', 'Y4W-GATE_CS-5', 'SolarCT 1', '200', '3000', 'KM', 'iu4',\n",
       "       'v6', '20180805', 'INDIRIMBO V', '700', 'Translator 10',\n",
       "       '20180518-01', 'Glueboardv', '20170828', 'HTTPs', '67',\n",
       "       'DPSTATUS1', '15|06|17', 'di-v3', 'r2', 'pb1', 'R1', 'Human Dx',\n",
       "       '2018-04-27', '2018-03', '33', 'erie1', '4541', '130', '25072018',\n",
       "       '56', '21', 'Paid-9', 'Fennec-52', 'BlueOrange', '314007',\n",
       "       '1000000', 'Pro 1', 'V1-180703', 'F2i', '81', 'V4', '176',\n",
       "       '060816', '125', '34', '20170920', '3rd Release Aug 2016'],\n",
       "      dtype=object)"
      ]
     },
     "execution_count": 211,
     "metadata": {},
     "output_type": "execute_result"
    }
   ],
   "source": [
    "playstore['Current Ver'] = [x.replace('Varies with device','0') for x in playstore['Current Ver']]\n",
    "playstore['Current Ver'] = [x.split('.')[0] for x in playstore['Current Ver']]\n",
    "playstore['Current Ver'].unique()"
   ]
  },
  {
   "cell_type": "code",
   "execution_count": 212,
   "metadata": {},
   "outputs": [],
   "source": [
    "playstore['Last Updated'] = pd.to_datetime(playstore['Last Updated'])"
   ]
  },
  {
   "cell_type": "markdown",
   "metadata": {},
   "source": [
    "### Data Clean up\n",
    "#### Onehotencoder example"
   ]
  },
  {
   "cell_type": "code",
   "execution_count": 213,
   "metadata": {},
   "outputs": [],
   "source": [
    "#Onehotencoder\n",
    "from sklearn.preprocessing import OneHotEncoder\n",
    "def oneencoder(cat):\n",
    "    onehotencoder = OneHotEncoder()\n",
    "    caten = onehotencoder.fit_transform([[x] for x in playstore[cat]]).toarray()\n",
    "    encodeddf=pd.DataFrame(caten,columns = onehotencoder.get_feature_names(input_features=[cat]))\n",
    "    return encodeddf\n",
    "\n",
    "ohe_dataf = pd.concat([oneencoder('Category'),oneencoder('Content Rating'),oneencoder('Genres'),oneencoder('Type')], axis = 'columns')\n",
    "ohe_datag = playstore[['Rating', 'Reviews', 'Size', 'Installs','Price','Android Ver']].reset_index(drop=True)\n",
    "ohe_data = pd.concat([ohe_dataf,ohe_datag],axis='columns')\n",
    "ohe_data.to_csv('./data/ohe_processed_googleplaystore.csv',index=False)"
   ]
  },
  {
   "cell_type": "code",
   "execution_count": 214,
   "metadata": {},
   "outputs": [
    {
     "data": {
      "text/plain": [
       "(560, 13)"
      ]
     },
     "execution_count": 214,
     "metadata": {},
     "output_type": "execute_result"
    }
   ],
   "source": [
    "def finddata(bl,br):\n",
    "    rat = playstore.loc[(playstore['Rating']>= bl) & (playstore['Rating']< br)]\n",
    "    return rat\n",
    "one_two = finddata(1,2)\n",
    "two_three = finddata(2,3)\n",
    "three_four = finddata(3,4)\n",
    "four_five = finddata(4,5)\n",
    "\n",
    "two_threedf=two_three.sample(n=112, random_state=1)\n",
    "\n",
    "three_fourdf=three_four.sample(n=168,random_state=1)\n",
    "\n",
    "four_fivedf=four_five.sample(n=224,random_state=1)\n",
    "\n",
    "luls = pd.concat([one_two,two_threedf,three_fourdf,four_fivedf])\n",
    "luls.shape"
   ]
  },
  {
   "cell_type": "code",
   "execution_count": 215,
   "metadata": {},
   "outputs": [
    {
     "data": {
      "text/html": [
       "<div>\n",
       "<style scoped>\n",
       "    .dataframe tbody tr th:only-of-type {\n",
       "        vertical-align: middle;\n",
       "    }\n",
       "\n",
       "    .dataframe tbody tr th {\n",
       "        vertical-align: top;\n",
       "    }\n",
       "\n",
       "    .dataframe thead th {\n",
       "        text-align: right;\n",
       "    }\n",
       "</style>\n",
       "<table border=\"1\" class=\"dataframe\">\n",
       "  <thead>\n",
       "    <tr style=\"text-align: right;\">\n",
       "      <th></th>\n",
       "      <th>App</th>\n",
       "      <th>Category</th>\n",
       "      <th>Rating</th>\n",
       "      <th>Reviews</th>\n",
       "      <th>Size</th>\n",
       "      <th>Installs</th>\n",
       "      <th>Type</th>\n",
       "      <th>Price</th>\n",
       "      <th>Content Rating</th>\n",
       "      <th>Genres</th>\n",
       "      <th>Last Updated</th>\n",
       "      <th>Current Ver</th>\n",
       "      <th>Android Ver</th>\n",
       "    </tr>\n",
       "  </thead>\n",
       "  <tbody>\n",
       "    <tr>\n",
       "      <th>518</th>\n",
       "      <td>Just She - Top Lesbian Dating</td>\n",
       "      <td>DATING</td>\n",
       "      <td>1.9</td>\n",
       "      <td>953</td>\n",
       "      <td>19.0</td>\n",
       "      <td>100000</td>\n",
       "      <td>Free</td>\n",
       "      <td>0.0</td>\n",
       "      <td>Mature 17+</td>\n",
       "      <td>Dating</td>\n",
       "      <td>2018-07-18</td>\n",
       "      <td>6</td>\n",
       "      <td>5.00</td>\n",
       "    </tr>\n",
       "    <tr>\n",
       "      <th>554</th>\n",
       "      <td>Just She - Top Lesbian Dating</td>\n",
       "      <td>DATING</td>\n",
       "      <td>1.9</td>\n",
       "      <td>953</td>\n",
       "      <td>19.0</td>\n",
       "      <td>100000</td>\n",
       "      <td>Free</td>\n",
       "      <td>0.0</td>\n",
       "      <td>Mature 17+</td>\n",
       "      <td>Dating</td>\n",
       "      <td>2018-07-18</td>\n",
       "      <td>6</td>\n",
       "      <td>5.00</td>\n",
       "    </tr>\n",
       "    <tr>\n",
       "      <th>625</th>\n",
       "      <td>House party - live chat</td>\n",
       "      <td>DATING</td>\n",
       "      <td>1.0</td>\n",
       "      <td>1</td>\n",
       "      <td>9.2</td>\n",
       "      <td>10</td>\n",
       "      <td>Free</td>\n",
       "      <td>0.0</td>\n",
       "      <td>Mature 17+</td>\n",
       "      <td>Dating</td>\n",
       "      <td>2018-07-31</td>\n",
       "      <td>3</td>\n",
       "      <td>4.03</td>\n",
       "    </tr>\n",
       "    <tr>\n",
       "      <th>663</th>\n",
       "      <td>Just She - Top Lesbian Dating</td>\n",
       "      <td>DATING</td>\n",
       "      <td>1.9</td>\n",
       "      <td>954</td>\n",
       "      <td>19.0</td>\n",
       "      <td>100000</td>\n",
       "      <td>Free</td>\n",
       "      <td>0.0</td>\n",
       "      <td>Mature 17+</td>\n",
       "      <td>Dating</td>\n",
       "      <td>2018-07-18</td>\n",
       "      <td>6</td>\n",
       "      <td>5.00</td>\n",
       "    </tr>\n",
       "    <tr>\n",
       "      <th>4006</th>\n",
       "      <td>C by GE</td>\n",
       "      <td>LIFESTYLE</td>\n",
       "      <td>1.7</td>\n",
       "      <td>686</td>\n",
       "      <td>6.6</td>\n",
       "      <td>10000</td>\n",
       "      <td>Free</td>\n",
       "      <td>0.0</td>\n",
       "      <td>Everyone</td>\n",
       "      <td>Lifestyle</td>\n",
       "      <td>2018-07-11</td>\n",
       "      <td>4</td>\n",
       "      <td>4.30</td>\n",
       "    </tr>\n",
       "  </tbody>\n",
       "</table>\n",
       "</div>"
      ],
      "text/plain": [
       "                                App   Category  Rating  Reviews  Size  \\\n",
       "518   Just She - Top Lesbian Dating     DATING     1.9      953  19.0   \n",
       "554   Just She - Top Lesbian Dating     DATING     1.9      953  19.0   \n",
       "625         House party - live chat     DATING     1.0        1   9.2   \n",
       "663   Just She - Top Lesbian Dating     DATING     1.9      954  19.0   \n",
       "4006                        C by GE  LIFESTYLE     1.7      686   6.6   \n",
       "\n",
       "      Installs  Type  Price Content Rating     Genres Last Updated  \\\n",
       "518     100000  Free    0.0     Mature 17+     Dating   2018-07-18   \n",
       "554     100000  Free    0.0     Mature 17+     Dating   2018-07-18   \n",
       "625         10  Free    0.0     Mature 17+     Dating   2018-07-31   \n",
       "663     100000  Free    0.0     Mature 17+     Dating   2018-07-18   \n",
       "4006     10000  Free    0.0       Everyone  Lifestyle   2018-07-11   \n",
       "\n",
       "     Current Ver  Android Ver  \n",
       "518            6         5.00  \n",
       "554            6         5.00  \n",
       "625            3         4.03  \n",
       "663            6         5.00  \n",
       "4006           4         4.30  "
      ]
     },
     "execution_count": 215,
     "metadata": {},
     "output_type": "execute_result"
    }
   ],
   "source": [
    "luls.head()"
   ]
  },
  {
   "cell_type": "code",
   "execution_count": 216,
   "metadata": {},
   "outputs": [
    {
     "name": "stderr",
     "output_type": "stream",
     "text": [
      "c:\\users\\prath\\appdata\\local\\programs\\python\\python37\\lib\\site-packages\\sklearn\\utils\\validation.py:72: DataConversionWarning: A column-vector y was passed when a 1d array was expected. Please change the shape of y to (n_samples, ), for example using ravel().\n",
      "  return f(**kwargs)\n"
     ]
    }
   ],
   "source": [
    "from sklearn import preprocessing\n",
    "import json\n",
    "def labelencoder1(cat):\n",
    "    le = preprocessing.LabelEncoder()\n",
    "    catle = le.fit_transform(luls[[cat]])\n",
    "    data = [{le.inverse_transform([x])[0]:int(x)} for x in np.unique(catle)]\n",
    "    with open('./encode/'+cat+\"balanced\"+\".json\", 'w') as f:\n",
    "        json.dump(data, f)\n",
    "    return catle\n",
    "\n",
    "Category_encoded1 = labelencoder1('Category')\n",
    "ContentRating_encoded1 = labelencoder1('Content Rating')\n",
    "Genres_encoded1 = labelencoder1('Genres')\n",
    "Type_encoded1 = labelencoder1('Type')\n",
    "luls.Category = Category_encoded1\n",
    "luls['Content Rating'] = ContentRating_encoded1\n",
    "luls.Genres = Genres_encoded1\n",
    "luls.Type = Type_encoded1"
   ]
  },
  {
   "cell_type": "code",
   "execution_count": 217,
   "metadata": {},
   "outputs": [
    {
     "data": {
      "text/plain": [
       "(560, 13)"
      ]
     },
     "execution_count": 217,
     "metadata": {},
     "output_type": "execute_result"
    }
   ],
   "source": [
    "luls.shape"
   ]
  },
  {
   "cell_type": "code",
   "execution_count": 218,
   "metadata": {},
   "outputs": [],
   "source": [
    "luls.to_csv('./data/processed_googleplaystore_balanced.csv',index=False)"
   ]
  },
  {
   "cell_type": "code",
   "execution_count": 219,
   "metadata": {},
   "outputs": [],
   "source": [
    "from sklearn import preprocessing\n",
    "import json\n",
    "def labelencoder(cat):\n",
    "    le = preprocessing.LabelEncoder()\n",
    "    catle = le.fit_transform(playstore[[cat]])\n",
    "    data = [{le.inverse_transform([x])[0]:int(x)} for x in np.unique(catle)]\n",
    "    with open('./encode/'+cat+\".json\", 'w') as f:\n",
    "        json.dump(data, f)\n",
    "    return catle\n",
    "\n",
    "Category_encoded = labelencoder('Category')\n",
    "ContentRating_encoded = labelencoder('Content Rating')\n",
    "Genres_encoded = labelencoder('Genres')\n",
    "Type_encoded = labelencoder('Type')\n",
    "playstore.Category = Category_encoded\n",
    "playstore['Content Rating'] = ContentRating_encoded\n",
    "playstore.Genres = Genres_encoded\n",
    "playstore.Type = Type_encoded"
   ]
  },
  {
   "cell_type": "markdown",
   "metadata": {},
   "source": [
    "## Balance the data"
   ]
  },
  {
   "cell_type": "code",
   "execution_count": 220,
   "metadata": {},
   "outputs": [
    {
     "name": "stdout",
     "output_type": "stream",
     "text": [
      "56\n",
      "231\n",
      "1710\n",
      "7089\n"
     ]
    }
   ],
   "source": [
    "def finddata(bl,br):\n",
    "    rat = playstore.loc[(playstore['Rating']>= bl) & (playstore['Rating']< br)]\n",
    "    return rat\n",
    "one_two = finddata(1,2)\n",
    "two_three = finddata(2,3)\n",
    "three_four = finddata(3,4)\n",
    "four_five = finddata(4,5)\n",
    "print(one_two.shape[0])\n",
    "print(two_three.shape[0])\n",
    "print(three_four.shape[0])\n",
    "print(four_five.shape[0])"
   ]
  },
  {
   "cell_type": "code",
   "execution_count": 221,
   "metadata": {},
   "outputs": [
    {
     "data": {
      "image/png": "[encoded data removed]",
      "text/plain": [
       "<Figure size 720x504 with 1 Axes>"
      ]
     },
     "metadata": {
      "needs_background": "light"
     },
     "output_type": "display_data"
    }
   ],
   "source": [
    "baras = ['1-2','2-3','3-4','4-5']\n",
    "bar = [one_two.shape[0],two_three.shape[0],three_four.shape[0],four_five.shape[0]]\n",
    "x = np.arange(len(baras))\n",
    "width = 0.8\n",
    "fig,ax= plt.subplots(figsize=(10,7))\n",
    "rects = ax.bar(x-width/16, bar, width, label=baras)\n",
    "ax.set_ylabel('Number of Rating')\n",
    "ax.set_xticks(x)\n",
    "ax.set_xticklabels(baras)\n",
    "def autolabel(rects):\n",
    "    \"\"\"Attach a text label above each bar in *rects*, displaying its height.\"\"\"\n",
    "    for rect in rects:\n",
    "        height = rect.get_height()\n",
    "        ax.annotate('{}'.format(height),\n",
    "                    xy=(rect.get_x() + rect.get_width() / 2, height),\n",
    "                    xytext=(0, 3),  # 3 points vertical offset\n",
    "                    textcoords=\"offset points\",\n",
    "                    ha='center', va='bottom')\n",
    "autolabel(rects)\n",
    "plt.show()"
   ]
  },
  {
   "cell_type": "code",
   "execution_count": 222,
   "metadata": {},
   "outputs": [],
   "source": [
    "playstore.to_csv('./data/processed_googleplaystore.csv',index=False)"
   ]
  }
 ],
 "metadata": {
  "kernelspec": {
   "display_name": "Python 3",
   "language": "python",
   "name": "python3"
  },
  "language_info": {
   "codemirror_mode": {
    "name": "ipython",
    "version": 3
   },
   "file_extension": ".py",
   "mimetype": "text/x-python",
   "name": "python",
   "nbconvert_exporter": "python",
   "pygments_lexer": "ipython3",
   "version": "3.7.6"
  }
 },
 "nbformat": 4,
 "nbformat_minor": 4
}
